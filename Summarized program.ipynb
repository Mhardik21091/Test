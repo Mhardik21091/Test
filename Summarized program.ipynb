{
  "nbformat": 4,
  "nbformat_minor": 0,
  "metadata": {
    "colab": {
      "provenance": [],
      "authorship_tag": "ABX9TyPFxvZ53qUnVnK240FqqbVq",
      "include_colab_link": true
    },
    "kernelspec": {
      "name": "python3",
      "display_name": "Python 3"
    },
    "language_info": {
      "name": "python"
    }
  },
  "cells": [
    {
      "cell_type": "markdown",
      "metadata": {
        "id": "view-in-github",
        "colab_type": "text"
      },
      "source": [
        "<a href=\"https://colab.research.google.com/github/Mhardik21091/Test/blob/main/Summarized%20program.ipynb\" target=\"_parent\"><img src=\"https://colab.research.google.com/assets/colab-badge.svg\" alt=\"Open In Colab\"/></a>"
      ]
    },
    {
      "cell_type": "code",
      "execution_count": 1,
      "metadata": {
        "colab": {
          "base_uri": "https://localhost:8080/"
        },
        "id": "_2iMComyJaLp",
        "outputId": "ea931092-54b5-422f-8398-48545ecff884"
      },
      "outputs": [
        {
          "output_type": "stream",
          "name": "stdout",
          "text": [
            "Requirement already satisfied: transformers in /usr/local/lib/python3.10/dist-packages (4.35.2)\n",
            "Requirement already satisfied: filelock in /usr/local/lib/python3.10/dist-packages (from transformers) (3.13.1)\n",
            "Requirement already satisfied: huggingface-hub<1.0,>=0.16.4 in /usr/local/lib/python3.10/dist-packages (from transformers) (0.20.3)\n",
            "Requirement already satisfied: numpy>=1.17 in /usr/local/lib/python3.10/dist-packages (from transformers) (1.23.5)\n",
            "Requirement already satisfied: packaging>=20.0 in /usr/local/lib/python3.10/dist-packages (from transformers) (23.2)\n",
            "Requirement already satisfied: pyyaml>=5.1 in /usr/local/lib/python3.10/dist-packages (from transformers) (6.0.1)\n",
            "Requirement already satisfied: regex!=2019.12.17 in /usr/local/lib/python3.10/dist-packages (from transformers) (2023.12.25)\n",
            "Requirement already satisfied: requests in /usr/local/lib/python3.10/dist-packages (from transformers) (2.31.0)\n",
            "Requirement already satisfied: tokenizers<0.19,>=0.14 in /usr/local/lib/python3.10/dist-packages (from transformers) (0.15.1)\n",
            "Requirement already satisfied: safetensors>=0.3.1 in /usr/local/lib/python3.10/dist-packages (from transformers) (0.4.2)\n",
            "Requirement already satisfied: tqdm>=4.27 in /usr/local/lib/python3.10/dist-packages (from transformers) (4.66.1)\n",
            "Requirement already satisfied: fsspec>=2023.5.0 in /usr/local/lib/python3.10/dist-packages (from huggingface-hub<1.0,>=0.16.4->transformers) (2023.6.0)\n",
            "Requirement already satisfied: typing-extensions>=3.7.4.3 in /usr/local/lib/python3.10/dist-packages (from huggingface-hub<1.0,>=0.16.4->transformers) (4.9.0)\n",
            "Requirement already satisfied: charset-normalizer<4,>=2 in /usr/local/lib/python3.10/dist-packages (from requests->transformers) (3.3.2)\n",
            "Requirement already satisfied: idna<4,>=2.5 in /usr/local/lib/python3.10/dist-packages (from requests->transformers) (3.6)\n",
            "Requirement already satisfied: urllib3<3,>=1.21.1 in /usr/local/lib/python3.10/dist-packages (from requests->transformers) (2.0.7)\n",
            "Requirement already satisfied: certifi>=2017.4.17 in /usr/local/lib/python3.10/dist-packages (from requests->transformers) (2024.2.2)\n"
          ]
        }
      ],
      "source": [
        "pip install transformers"
      ]
    },
    {
      "cell_type": "code",
      "source": [
        "from transformers import pipeline\n",
        "\n",
        "summarizer = pipeline(\"summarization\")\n",
        "\n",
        "text = input(\"Enter text to summarize: \")\n",
        "summary = summarizer(text, max_length=150, min_length=50, do_sample=False)\n",
        "for sequnce in summary:\n",
        "    generated_paragraphs = sequnce['summary_text'].split(\"\\n\\n\")\n",
        "for paragraph in generated_paragraphs:\n",
        "    print(paragraph)\n",
        "print(\"\\nInput text\")\n",
        "print(text)\n",
        "for sequnce in summary:\n",
        "    generated_paragraphs = sequnce['summary_text'].split(\"\\n\\n\")\n",
        "for paragraph in generated_paragraphs:\n",
        "    print(paragraph)\n",
        "\n",
        "print(\"\\nSummarized text: \")\n",
        "print(summary[0]['summary_text'])"
      ],
      "metadata": {
        "colab": {
          "base_uri": "https://localhost:8080/"
        },
        "id": "GjU42ez-Jpti",
        "outputId": "afe4b2c7-0f8f-43fb-b3dc-e39e31235460"
      },
      "execution_count": 15,
      "outputs": [
        {
          "output_type": "stream",
          "name": "stderr",
          "text": [
            "No model was supplied, defaulted to sshleifer/distilbart-cnn-12-6 and revision a4f8f3e (https://huggingface.co/sshleifer/distilbart-cnn-12-6).\n",
            "Using a pipeline without specifying a model name and revision in production is not recommended.\n"
          ]
        },
        {
          "name": "stdout",
          "output_type": "stream",
          "text": [
            "Enter text to summarize: The origins of the modern Valentine’s Day are mostly legend. Legend has it St. Valentine was a priest who died defending marriage under a Roman emperor opposed to the practice. Legend has it the date was set to parallel the beginning of bird mating season. The clearest connection between St. Valentine and the celebration of romantic love surfaces in the Medieval work of Geoffrey Chaucer. In his Pariliament of Foules, Chaucer drafts his own legend: “For this was sent on Seynt Valentyne’s day / When every foul cometh ther to choose his mate.”\n"
          ]
        },
        {
          "output_type": "stream",
          "name": "stderr",
          "text": [
            "Your max_length is set to 150, but your input_length is only 125. Since this is a summarization task, where outputs shorter than the input are typically wanted, you might consider decreasing max_length manually, e.g. summarizer('...', max_length=62)\n"
          ]
        },
        {
          "output_type": "stream",
          "name": "stdout",
          "text": [
            " Legend has it St. Valentine was a priest who died defending marriage under a Roman emperor opposed to the practice . The clearest connection between the celebration of romantic love surfaces in the Medieval work of Geoffrey Chaucer . Chaucer drafts his own legend: “For this was sent on Seynt Valentyne’s day / When every foul cometh ther to choose his mate”\n",
            "\n",
            "Input text\n",
            "The origins of the modern Valentine’s Day are mostly legend. Legend has it St. Valentine was a priest who died defending marriage under a Roman emperor opposed to the practice. Legend has it the date was set to parallel the beginning of bird mating season. The clearest connection between St. Valentine and the celebration of romantic love surfaces in the Medieval work of Geoffrey Chaucer. In his Pariliament of Foules, Chaucer drafts his own legend: “For this was sent on Seynt Valentyne’s day / When every foul cometh ther to choose his mate.”\n",
            " Legend has it St. Valentine was a priest who died defending marriage under a Roman emperor opposed to the practice . The clearest connection between the celebration of romantic love surfaces in the Medieval work of Geoffrey Chaucer . Chaucer drafts his own legend: “For this was sent on Seynt Valentyne’s day / When every foul cometh ther to choose his mate”\n",
            "\n",
            "Summarized text: \n",
            " Legend has it St. Valentine was a priest who died defending marriage under a Roman emperor opposed to the practice . The clearest connection between the celebration of romantic love surfaces in the Medieval work of Geoffrey Chaucer . Chaucer drafts his own legend: “For this was sent on Seynt Valentyne’s day / When every foul cometh ther to choose his mate”\n"
          ]
        }
      ]
    }
  ]
}